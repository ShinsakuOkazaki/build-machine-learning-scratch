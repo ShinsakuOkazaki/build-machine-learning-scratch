{
 "cells": [
  {
   "cell_type": "code",
   "execution_count": 1,
   "metadata": {},
   "outputs": [],
   "source": [
    "import numpy as np\n",
    "import matplotlib.pyplot as plt"
   ]
  },
  {
   "cell_type": "code",
   "execution_count": 6,
   "metadata": {},
   "outputs": [],
   "source": [
    "def newton1dim(f, df, x0, eps=1e-10, max_iter=1000):\n",
    "    x = x0\n",
    "    iter = 0\n",
    "    while True:\n",
    "        x_new = x - f(x) / df(x)\n",
    "        if abs(x-x_new) < eps:\n",
    "            break\n",
    "        x = x_new\n",
    "        iter += 1\n",
    "        if iter == max_iter:\n",
    "            break\n",
    "    return x_new"
   ]
  },
  {
   "cell_type": "code",
   "execution_count": 7,
   "metadata": {},
   "outputs": [],
   "source": [
    "def f(x):\n",
    "    return x**3 - 5*x + 1\n",
    "def df(x):\n",
    "    return 3*x**2 - 5"
   ]
  },
  {
   "cell_type": "code",
   "execution_count": 8,
   "metadata": {},
   "outputs": [
    {
     "name": "stdout",
     "output_type": "stream",
     "text": [
      "2.1284190638445777\n",
      "0.20163967572340463\n",
      "-2.330058739567982\n"
     ]
    }
   ],
   "source": [
    "print(newton1dim(f, df, 2))\n",
    "print(newton1dim(f, df, 0))\n",
    "print(newton1dim(f, df, -3))"
   ]
  },
  {
   "cell_type": "code",
   "execution_count": 9,
   "metadata": {},
   "outputs": [],
   "source": [
    "#newton in general \n",
    "from numpy import linalg"
   ]
  },
  {
   "cell_type": "code",
   "execution_count": 13,
   "metadata": {},
   "outputs": [],
   "source": [
    "class Newton:\n",
    "    def __init__(self, f, df, eps=1e-10, max_iter=1000):\n",
    "        self.f = f\n",
    "        self.df = df\n",
    "        self.eps = eps\n",
    "        self.max_iter = max_iter\n",
    "    \n",
    "    def solve(self, x0):\n",
    "        x = x0 \n",
    "        iter = 0\n",
    "        self.path_ = x0.reshape(1, -1)\n",
    "        while True:\n",
    "            x_new = x - np.dot(linalg.inv(df(x)), self.f(x))\n",
    "            self.path_ = np.r_[self.path_, x_new.reshape(1, -1)]\n",
    "            if((x-x_new)**2).sum() < self.eps*self.eps:\n",
    "                break\n",
    "            x = x_new\n",
    "            iter += 1\n",
    "            if iter == self.max_iter:\n",
    "                break\n",
    "        return x_new"
   ]
  },
  {
   "cell_type": "code",
   "execution_count": 14,
   "metadata": {},
   "outputs": [],
   "source": [
    "def f1(x, y):\n",
    "    return x**3 - 2*y\n",
    "\n",
    "def f2(x, y):\n",
    "    return x**2 + y**2 -1"
   ]
  },
  {
   "cell_type": "code",
   "execution_count": 15,
   "metadata": {},
   "outputs": [],
   "source": [
    "def f(xx):\n",
    "    x = xx[0]\n",
    "    y = xx[1]\n",
    "    return np.array([f1(x, y), f2(x, y)])\n",
    "\n",
    "def df(xx):\n",
    "    x = xx[0]\n",
    "    y = xx[1]\n",
    "    return np.array([[3*x**2, -2], [2*x, 2*y]])"
   ]
  },
  {
   "cell_type": "code",
   "execution_count": 16,
   "metadata": {},
   "outputs": [],
   "source": [
    "xmin, xmax, ymin, ymax = -3, 3, -3, 3"
   ]
  },
  {
   "cell_type": "code",
   "execution_count": 18,
   "metadata": {},
   "outputs": [
    {
     "name": "stdout",
     "output_type": "stream",
     "text": [
      "[0.92071038 0.39024659]\n",
      "[-0.92071038 -0.39024659]\n",
      "[-0.92071038 -0.39024659]\n"
     ]
    },
    {
     "data": {
      "image/png": "[encoded data removed]",
      "text/plain": [
       "<Figure size 432x288 with 1 Axes>"
      ]
     },
     "metadata": {},
     "output_type": "display_data"
    }
   ],
   "source": [
    "plt.xlim(xmin, xmax)\n",
    "plt.ylim(ymin, ymax)\n",
    "x = np.linspace(xmin, xmax, 200)\n",
    "y = np.linspace(ymin, ymax, 200)\n",
    "xmesh, ymesh = np.meshgrid(x, y)\n",
    "z1 = f1(xmesh, ymesh)\n",
    "z2 = f2(xmesh, ymesh)\n",
    "plt.contour(xmesh, ymesh, z1, colors=\"r\", levels=[0])\n",
    "plt.contour(xmesh, ymesh, z2, colors=\"r\", levels=[0])\n",
    "solver = Newton(f, df)\n",
    "\n",
    "initials= [np.array([1, 1]),\n",
    "           np.array([-1, -1]),\n",
    "           np.array([1, -1])]\n",
    "markers = [\"+\", \"*\", \"x\"]\n",
    "\n",
    "for x0, m in zip(initials, markers):\n",
    "    sol = solver.solve(x0)\n",
    "    plt.scatter(solver.path_[:, 0],\n",
    "                solver.path_[:, 1], color=\"k\", marker=m)\n",
    "    print(sol)\n",
    "plt.show()"
   ]
  },
  {
   "cell_type": "code",
   "execution_count": null,
   "metadata": {},
   "outputs": [],
   "source": []
  }
 ],
 "metadata": {
  "kernelspec": {
   "display_name": "Python 3",
   "language": "python",
   "name": "python3"
  },
  "language_info": {
   "codemirror_mode": {
    "name": "ipython",
    "version": 3
   },
   "file_extension": ".py",
   "mimetype": "text/x-python",
   "name": "python",
   "nbconvert_exporter": "python",
   "pygments_lexer": "ipython3",
   "version": "3.6.8"
  },
  "latex_envs": {
   "LaTeX_envs_menu_present": true,
   "autoclose": false,
   "autocomplete": true,
   "bibliofile": "biblio.bib",
   "cite_by": "apalike",
   "current_citInitial": 1,
   "eqLabelWithNumbers": true,
   "eqNumInitial": 1,
   "hotkeys": {
    "equation": "Ctrl-E",
    "itemize": "Ctrl-I"
   },
   "labels_anchors": false,
   "latex_user_defs": false,
   "report_style_numbering": false,
   "user_envs_cfg": false
  }
 },
 "nbformat": 4,
 "nbformat_minor": 2
}
