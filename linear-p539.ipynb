{
 "cells": [
  {
   "cell_type": "code",
   "execution_count": 1,
   "metadata": {},
   "outputs": [],
   "source": [
    "import numpy as np\n",
    "from scipy.linalg import toeplitz"
   ]
  },
  {
   "cell_type": "code",
   "execution_count": 2,
   "metadata": {},
   "outputs": [
    {
     "data": {
      "text/plain": [
       "array([[0, 1, 0, 0, 0, 1],\n",
       "       [1, 0, 1, 0, 0, 0],\n",
       "       [0, 1, 0, 1, 0, 0],\n",
       "       [0, 0, 1, 0, 1, 0],\n",
       "       [0, 0, 0, 1, 0, 1],\n",
       "       [1, 0, 0, 0, 1, 0]])"
      ]
     },
     "execution_count": 2,
     "metadata": {},
     "output_type": "execute_result"
    }
   ],
   "source": [
    "v = np.array([0,1,0,0,0,1])\n",
    "toeplitz(v)"
   ]
  },
  {
   "cell_type": "code",
   "execution_count": 3,
   "metadata": {},
   "outputs": [],
   "source": [
    "def v(n):\n",
    "    v = np.zeros(n)\n",
    "    v[1] = 1\n",
    "    v[n-1] = 1\n",
    "    return v"
   ]
  },
  {
   "cell_type": "code",
   "execution_count": 4,
   "metadata": {},
   "outputs": [
    {
     "data": {
      "text/plain": [
       "array([0., 1., 0., 0., 1.])"
      ]
     },
     "execution_count": 4,
     "metadata": {},
     "output_type": "execute_result"
    }
   ],
   "source": [
    "v(5)"
   ]
  },
  {
   "cell_type": "code",
   "execution_count": 5,
   "metadata": {},
   "outputs": [
    {
     "data": {
      "text/plain": [
       "array([[0., 1., 0., 0., 1.],\n",
       "       [1., 0., 1., 0., 0.],\n",
       "       [0., 1., 0., 1., 0.],\n",
       "       [0., 0., 1., 0., 1.],\n",
       "       [1., 0., 0., 1., 0.]])"
      ]
     },
     "execution_count": 5,
     "metadata": {},
     "output_type": "execute_result"
    }
   ],
   "source": [
    "toeplitz(v(5))"
   ]
  },
  {
   "cell_type": "code",
   "execution_count": 6,
   "metadata": {},
   "outputs": [
    {
     "name": "stdout",
     "output_type": "stream",
     "text": [
      "2.0\n",
      "-4.0\n",
      "2.0\n",
      "0.0\n",
      "2.0\n",
      "-4.0\n",
      "2.0\n",
      "0.0\n"
     ]
    }
   ],
   "source": [
    "for i in range(5, 13):\n",
    "    print(np.linalg.det(toeplitz(v(i))))"
   ]
  },
  {
   "cell_type": "code",
   "execution_count": 49,
   "metadata": {},
   "outputs": [
    {
     "name": "stdout",
     "output_type": "stream",
     "text": [
      "firt row: 0 0.0\n",
      "row cofactor: 0 -1.0\n",
      "firt row: 1 1.0\n",
      "row cofactor: 1 -1.0\n",
      "firt row: 2 0.0\n",
      "row cofactor: 2 1.0\n",
      "firt row: 3 0.0\n",
      "row cofactor: 3 1.0\n",
      "firt row: 4 0.0\n",
      "row cofactor: 4 -1.0\n",
      "firt row: 5 0.0\n",
      "row cofactor: 5 -1.0\n",
      "firt row: 6 0.0\n",
      "row cofactor: 6 1.0\n",
      "firt row: 7 0.0\n",
      "row cofactor: 7 1.0\n",
      "firt row: 8 0.0\n",
      "row cofactor: 8 -1.0\n",
      "firt row: 9 0.0\n",
      "row cofactor: 9 -1.0\n",
      "firt row: 10 1.0\n",
      "row cofactor: 10 1.0\n"
     ]
    }
   ],
   "source": [
    "n = 11\n",
    "for i in range(n):\n",
    "    first_row = toeplitz(v(n))[0, i]\n",
    "    print(\"firt row:\", i, first_row)\n",
    "    cofactor_row = np.linalg.det(toeplitz(v(n))[1:, [j for j in range(n) if j != i]])\n",
    "    print(\"row cofactor:\", i, cofactor_row)"
   ]
  },
  {
   "cell_type": "code",
   "execution_count": null,
   "metadata": {},
   "outputs": [],
   "source": []
  }
 ],
 "metadata": {
  "kernelspec": {
   "display_name": "Python 3",
   "language": "python",
   "name": "python3"
  },
  "language_info": {
   "codemirror_mode": {
    "name": "ipython",
    "version": 3
   },
   "file_extension": ".py",
   "mimetype": "text/x-python",
   "name": "python",
   "nbconvert_exporter": "python",
   "pygments_lexer": "ipython3",
   "version": "3.6.8"
  },
  "latex_envs": {
   "LaTeX_envs_menu_present": true,
   "autoclose": false,
   "autocomplete": true,
   "bibliofile": "biblio.bib",
   "cite_by": "apalike",
   "current_citInitial": 1,
   "eqLabelWithNumbers": true,
   "eqNumInitial": 1,
   "hotkeys": {
    "equation": "Ctrl-E",
    "itemize": "Ctrl-I"
   },
   "labels_anchors": false,
   "latex_user_defs": false,
   "report_style_numbering": false,
   "user_envs_cfg": false
  }
 },
 "nbformat": 4,
 "nbformat_minor": 2
}
