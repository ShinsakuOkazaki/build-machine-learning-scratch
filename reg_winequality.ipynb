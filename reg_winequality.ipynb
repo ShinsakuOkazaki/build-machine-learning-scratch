{
 "cells": [
  {
   "cell_type": "code",
   "execution_count": 1,
   "metadata": {},
   "outputs": [],
   "source": [
    "import linearreg\n",
    "import numpy as np\n",
    "import csv"
   ]
  },
  {
   "cell_type": "code",
   "execution_count": 3,
   "metadata": {},
   "outputs": [],
   "source": [
    "Xy = []\n",
    "with open(\"winequality-red.csv\") as fp:\n",
    "    for row in csv.reader(fp, delimiter=\";\"):\n",
    "        Xy.append(row)\n",
    "Xy = np.array(Xy[1:], dtype=np.float64)"
   ]
  },
  {
   "cell_type": "code",
   "execution_count": 4,
   "metadata": {},
   "outputs": [],
   "source": [
    "np.random.seed(0)\n",
    "np.random.shuffle(Xy)\n",
    "train_X = Xy[:-1000, :-1]\n",
    "train_y = Xy[:-1000, -1]\n",
    "test_X = Xy[-1000:, :-1]\n",
    "test_y = Xy[-1000:, -1]"
   ]
  },
  {
   "cell_type": "code",
   "execution_count": 5,
   "metadata": {},
   "outputs": [],
   "source": [
    "model = linearreg.LinearRegression()\n",
    "model.fit(train_X, train_y)"
   ]
  },
  {
   "cell_type": "code",
   "execution_count": 6,
   "metadata": {},
   "outputs": [],
   "source": [
    "y = model.predict(test_X)"
   ]
  },
  {
   "cell_type": "code",
   "execution_count": 8,
   "metadata": {},
   "outputs": [
    {
     "name": "stdout",
     "output_type": "stream",
     "text": [
      "The first 5 true values and predictions\n",
      "7 6.012\n",
      "6 5.734\n",
      "5 5.285\n",
      "8 6.352\n",
      "5 5.414\n",
      "\n",
      "RMSE: 0.5217340541556873\n"
     ]
    }
   ],
   "source": [
    "print(\"The first 5 true values and predictions\")\n",
    "for i in range(5):\n",
    "    print(\"{:1.0f} {:5.3f}\".format(test_y[i], y[i]))\n",
    "print()\n",
    "print(\"RMSE:\", np.sqrt((test_y - y)**2).mean())"
   ]
  },
  {
   "cell_type": "code",
   "execution_count": null,
   "metadata": {},
   "outputs": [],
   "source": []
  }
 ],
 "metadata": {
  "kernelspec": {
   "display_name": "Python 3",
   "language": "python",
   "name": "python3"
  },
  "language_info": {
   "codemirror_mode": {
    "name": "ipython",
    "version": 3
   },
   "file_extension": ".py",
   "mimetype": "text/x-python",
   "name": "python",
   "nbconvert_exporter": "python",
   "pygments_lexer": "ipython3",
   "version": "3.6.8"
  },
  "latex_envs": {
   "LaTeX_envs_menu_present": true,
   "autoclose": false,
   "autocomplete": true,
   "bibliofile": "biblio.bib",
   "cite_by": "apalike",
   "current_citInitial": 1,
   "eqLabelWithNumbers": true,
   "eqNumInitial": 1,
   "hotkeys": {
    "equation": "Ctrl-E",
    "itemize": "Ctrl-I"
   },
   "labels_anchors": false,
   "latex_user_defs": false,
   "report_style_numbering": false,
   "user_envs_cfg": false
  }
 },
 "nbformat": 4,
 "nbformat_minor": 2
}
