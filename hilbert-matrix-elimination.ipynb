{
 "cells": [
  {
   "cell_type": "code",
   "execution_count": 9,
   "metadata": {},
   "outputs": [],
   "source": [
    "import numpy as np\n",
    "from scipy import linalg"
   ]
  },
  {
   "cell_type": "code",
   "execution_count": 10,
   "metadata": {},
   "outputs": [],
   "source": [
    "hilbs = []\n",
    "dets = []\n",
    "for i in range(1, 11):\n",
    "    hilb = linalg.hilbert(i)\n",
    "    det = np.linalg.det(hilb)\n",
    "    hilbs.append(hilb)\n",
    "    dets.append(det)\n",
    "    "
   ]
  },
  {
   "cell_type": "code",
   "execution_count": 11,
   "metadata": {},
   "outputs": [
    {
     "data": {
      "text/plain": [
       "10"
      ]
     },
     "execution_count": 11,
     "metadata": {},
     "output_type": "execute_result"
    }
   ],
   "source": [
    "len(hilbs)"
   ]
  },
  {
   "cell_type": "code",
   "execution_count": 12,
   "metadata": {},
   "outputs": [
    {
     "data": {
      "text/plain": [
       "3.749295132517931e-12"
      ]
     },
     "execution_count": 12,
     "metadata": {},
     "output_type": "execute_result"
    }
   ],
   "source": [
    "dets[4]"
   ]
  },
  {
   "cell_type": "code",
   "execution_count": 13,
   "metadata": {},
   "outputs": [
    {
     "data": {
      "text/plain": [
       "array([[1.        , 0.5       , 0.33333333, 0.25      , 0.2       ],\n",
       "       [0.5       , 0.33333333, 0.25      , 0.2       , 0.16666667],\n",
       "       [0.33333333, 0.25      , 0.2       , 0.16666667, 0.14285714],\n",
       "       [0.25      , 0.2       , 0.16666667, 0.14285714, 0.125     ],\n",
       "       [0.2       , 0.16666667, 0.14285714, 0.125     , 0.11111111]])"
      ]
     },
     "execution_count": 13,
     "metadata": {},
     "output_type": "execute_result"
    }
   ],
   "source": [
    "hilbs[4]"
   ]
  },
  {
   "cell_type": "code",
   "execution_count": 14,
   "metadata": {},
   "outputs": [
    {
     "name": "stdout",
     "output_type": "stream",
     "text": [
      "rand: 0 [[0.5        0.25       0.16666667 0.125      0.1       ]\n",
      " [0.33333333 0.16666667 0.11111111 0.08333333 0.06666667]\n",
      " [0.25       0.125      0.08333333 0.0625     0.05      ]\n",
      " [0.2        0.1        0.06666667 0.05       0.04      ]]\n",
      "rand: 1 [[0.         0.08333333 0.08333333 0.075      0.06666667]\n",
      " [0.         0.075      0.075      0.0675     0.06      ]\n",
      " [0.         0.06666667 0.06666667 0.06       0.05333333]]\n",
      "rand: 2 [[0.         0.         0.00833333 0.0125     0.01428571]\n",
      " [0.         0.         0.00952381 0.01428571 0.01632653]]\n",
      "rand: 3 [[0.         0.         0.         0.00071429 0.00142857]]\n"
     ]
    }
   ],
   "source": [
    "hilb_5 = np.copy(hilbs[4])\n",
    "for i in range(0, (hilb_5.shape[0]-1)):\n",
    "    elims = np.array([]).reshape(0, 5)\n",
    "    for j in range(i+1, (hilb_5.shape[0])):\n",
    "        elim =  hilb_5[j,i] * (hilb_5[i,:] / hilb_5[i,i])\n",
    "        elims = np.vstack((elims,elim))\n",
    "    print(\"rand:\", i,elims)\n",
    "    hilb_5[i+1:, :] = hilb_5[i+1:, :] - elims"
   ]
  },
  {
   "cell_type": "code",
   "execution_count": 15,
   "metadata": {},
   "outputs": [
    {
     "data": {
      "text/plain": [
       "array([[1.00000000e+00, 5.00000000e-01, 3.33333333e-01, 2.50000000e-01,\n",
       "        2.00000000e-01],\n",
       "       [0.00000000e+00, 8.33333333e-02, 8.33333333e-02, 7.50000000e-02,\n",
       "        6.66666667e-02],\n",
       "       [0.00000000e+00, 0.00000000e+00, 5.55555556e-03, 8.33333333e-03,\n",
       "        9.52380952e-03],\n",
       "       [0.00000000e+00, 0.00000000e+00, 0.00000000e+00, 3.57142857e-04,\n",
       "        7.14285714e-04],\n",
       "       [0.00000000e+00, 0.00000000e+00, 0.00000000e+00, 0.00000000e+00,\n",
       "        2.26757370e-05]])"
      ]
     },
     "execution_count": 15,
     "metadata": {},
     "output_type": "execute_result"
    }
   ],
   "source": [
    "hilb_5"
   ]
  },
  {
   "cell_type": "code",
   "execution_count": 16,
   "metadata": {},
   "outputs": [],
   "source": [
    "#typical determinant of rand(n) and randn(n)"
   ]
  },
  {
   "cell_type": "code",
   "execution_count": 23,
   "metadata": {},
   "outputs": [
    {
     "name": "stderr",
     "output_type": "stream",
     "text": [
      "/anaconda3/lib/python3.6/site-packages/numpy/linalg/linalg.py:2093: RuntimeWarning: overflow encountered in det\n",
      "  r = _umath_linalg.det(a, signature=signature)\n"
     ]
    }
   ],
   "source": [
    "rand_matricies = []\n",
    "rand_dets = []\n",
    "randn_matricies = []\n",
    "randn_dets = []\n",
    "ns = [50, 100, 200, 400]\n",
    "for n in ns:\n",
    "    rand_matrix = np.random.rand(n, n)\n",
    "    randn_matrix = np.random.randn(n, n)\n",
    "    rand_matricies.append(rand_matrix)\n",
    "    randn_matricies.append(randn_matrix)\n",
    "    \n",
    "    rand_det = np.linalg.det(rand_matrix)\n",
    "    randn_det = np.linalg.det(randn_matrix)\n",
    "    rand_dets.append(rand_det)\n",
    "    randn_dets.append(randn_det)"
   ]
  },
  {
   "cell_type": "code",
   "execution_count": 24,
   "metadata": {},
   "outputs": [
    {
     "data": {
      "text/plain": [
       "[14952.013880657596,\n",
       " 2.89844082351138e+24,\n",
       " 6.023458532182723e+79,\n",
       " 5.520479451553968e+219]"
      ]
     },
     "execution_count": 24,
     "metadata": {},
     "output_type": "execute_result"
    }
   ],
   "source": [
    "rand_dets"
   ]
  },
  {
   "cell_type": "code",
   "execution_count": 25,
   "metadata": {},
   "outputs": [
    {
     "data": {
      "text/plain": [
       "[5.017265375883179e+31, 4.180971327066432e+76, 1.1241215877881418e+188, inf]"
      ]
     },
     "execution_count": 25,
     "metadata": {},
     "output_type": "execute_result"
    }
   ],
   "source": [
    "randn_dets"
   ]
  },
  {
   "cell_type": "code",
   "execution_count": null,
   "metadata": {},
   "outputs": [],
   "source": []
  }
 ],
 "metadata": {
  "kernelspec": {
   "display_name": "Python 3",
   "language": "python",
   "name": "python3"
  },
  "language_info": {
   "codemirror_mode": {
    "name": "ipython",
    "version": 3
   },
   "file_extension": ".py",
   "mimetype": "text/x-python",
   "name": "python",
   "nbconvert_exporter": "python",
   "pygments_lexer": "ipython3",
   "version": "3.6.8"
  },
  "latex_envs": {
   "LaTeX_envs_menu_present": true,
   "autoclose": false,
   "autocomplete": true,
   "bibliofile": "biblio.bib",
   "cite_by": "apalike",
   "current_citInitial": 1,
   "eqLabelWithNumbers": true,
   "eqNumInitial": 1,
   "hotkeys": {
    "equation": "Ctrl-E",
    "itemize": "Ctrl-I"
   },
   "labels_anchors": false,
   "latex_user_defs": false,
   "report_style_numbering": false,
   "user_envs_cfg": false
  }
 },
 "nbformat": 4,
 "nbformat_minor": 2
}
