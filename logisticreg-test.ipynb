{
 "cells": [
  {
   "cell_type": "code",
   "execution_count": 1,
   "metadata": {},
   "outputs": [],
   "source": [
    "import logisticreg1\n",
    "import csv\n",
    "import numpy as np"
   ]
  },
  {
   "cell_type": "code",
   "execution_count": 5,
   "metadata": {},
   "outputs": [],
   "source": [
    "n_test = 100\n",
    "X = []\n",
    "y = []\n",
    "with open(\"wdbc.data\") as fp:\n",
    "    for row in csv.reader(fp):\n",
    "        if row[1] == \"B\":\n",
    "            y.append(0)\n",
    "        else:\n",
    "            y.append(1)\n",
    "        X.append(row[2:])"
   ]
  },
  {
   "cell_type": "code",
   "execution_count": 7,
   "metadata": {},
   "outputs": [],
   "source": [
    "y = np.array(y, dtype=np.float64)\n",
    "X = np.array(X, dtype=np.float64)\n",
    "y_train = y[:-n_test]\n",
    "X_train = X[:-n_test]\n",
    "y_test = y[-n_test:]\n",
    "X_test = X[-n_test:]\n",
    "model = logisticreg1.LogisticRegression(tol=0.01)\n",
    "model.fit(X_train, y_train)\n"
   ]
  },
  {
   "cell_type": "code",
   "execution_count": 8,
   "metadata": {},
   "outputs": [
    {
     "name": "stdout",
     "output_type": "stream",
     "text": [
      "Accuracy: 97/100 = 0.97\n"
     ]
    }
   ],
   "source": [
    "y_predict = model.predict(X_test)\n",
    "n_hits = (y_test == y_predict).sum()\n",
    "print(\"Accuracy: {}/{} = {}\".format(n_hits, n_test, n_hits/n_test))"
   ]
  },
  {
   "cell_type": "code",
   "execution_count": null,
   "metadata": {},
   "outputs": [],
   "source": []
  }
 ],
 "metadata": {
  "kernelspec": {
   "display_name": "Python 3",
   "language": "python",
   "name": "python3"
  },
  "language_info": {
   "codemirror_mode": {
    "name": "ipython",
    "version": 3
   },
   "file_extension": ".py",
   "mimetype": "text/x-python",
   "name": "python",
   "nbconvert_exporter": "python",
   "pygments_lexer": "ipython3",
   "version": "3.6.8"
  },
  "latex_envs": {
   "LaTeX_envs_menu_present": true,
   "autoclose": false,
   "autocomplete": true,
   "bibliofile": "biblio.bib",
   "cite_by": "apalike",
   "current_citInitial": 1,
   "eqLabelWithNumbers": true,
   "eqNumInitial": 1,
   "hotkeys": {
    "equation": "Ctrl-E",
    "itemize": "Ctrl-I"
   },
   "labels_anchors": false,
   "latex_user_defs": false,
   "report_style_numbering": false,
   "user_envs_cfg": false
  }
 },
 "nbformat": 4,
 "nbformat_minor": 2
}
