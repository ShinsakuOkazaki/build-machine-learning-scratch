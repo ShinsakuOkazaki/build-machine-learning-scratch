{
 "cells": [
  {
   "cell_type": "code",
   "execution_count": 2,
   "metadata": {},
   "outputs": [
    {
     "name": "stderr",
     "output_type": "stream",
     "text": [
      "/anaconda3/lib/python3.6/importlib/_bootstrap.py:219: RuntimeWarning: numpy.ufunc size changed, may indicate binary incompatibility. Expected 192 from C header, got 216 from PyObject\n",
      "  return f(*args, **kwds)\n"
     ]
    }
   ],
   "source": [
    "import numpy as np\n",
    "import matplotlib.pyplot as plt\n",
    "import warnings\n",
    "import polyreg\n",
    "import linearreg"
   ]
  },
  {
   "cell_type": "code",
   "execution_count": 3,
   "metadata": {},
   "outputs": [],
   "source": [
    "def f(x):\n",
    "    return 1 / (1 + x)"
   ]
  },
  {
   "cell_type": "code",
   "execution_count": 4,
   "metadata": {},
   "outputs": [],
   "source": [
    "def sample(n):\n",
    "    x = np.random.random(n) * 5\n",
    "    y = f(x)\n",
    "    return x, y"
   ]
  },
  {
   "cell_type": "code",
   "execution_count": 8,
   "metadata": {},
   "outputs": [
    {
     "data": {
      "image/png": "[encoded data removed]",
      "text/plain": [
       "<Figure size 432x288 with 1 Axes>"
      ]
     },
     "metadata": {
      "needs_background": "light"
     },
     "output_type": "display_data"
    }
   ],
   "source": [
    "xx = np.arange(0, 5, 0.01)\n",
    "np.random.seed(0)\n",
    "y_poly_sum = np.zeros(len(xx))\n",
    "y_lin_sum = np.zeros(len(xx))\n",
    "n = 100000\n",
    "warnings.filterwarnings(\"ignore\")\n",
    "for _ in range(n):\n",
    "    x, y = sample(5)\n",
    "    poly = polyreg.PolynomialRegression(4)\n",
    "    poly.fit(x, y)\n",
    "    lin = linearreg.LinearRegression()\n",
    "    lin.fit(x, y)\n",
    "    y_poly = poly.predict(xx)\n",
    "    y_poly_sum += y_poly\n",
    "    y_lin = lin.predict(xx.reshape(-1, 1))\n",
    "    y_lin_sum += y_lin\n",
    "    \n",
    "plt.plot(xx, f(xx), label=\"truth\", \n",
    "         color=\"k\", linestyle=\"solid\")\n",
    "plt.plot(xx, y_poly_sum / n, label=\"polynomial reg.\", \n",
    "         color=\"k\", linestyle=\"dashed\")\n",
    "plt.plot(xx, y_lin_sum / n, label=\"linear reg.\", \n",
    "         color=\"k\", linestyle=\"dashed\")\n",
    "plt.legend()\n",
    "plt.show()"
   ]
  },
  {
   "cell_type": "code",
   "execution_count": null,
   "metadata": {},
   "outputs": [],
   "source": [
    "xx = np.arange(0, 5, 0.01)\n",
    "np.random.seed()\n",
    "y_poly_sum = np.zeros(len(xx))\n",
    "y_poly_sum_sq = np.zeros(len(xx))\n",
    "y_lin_sum = np.zeros(len(xx))\n",
    "y_lin_sum_sq = np.zeros(len(xx))\n",
    "y_true = f(xx)\n",
    "n = 100000\n",
    "warnings.filterwarnings(\"ignore\")\n",
    "for _ in range(n):\n",
    "    x, y = sample(5)\n",
    "    poly = polyreg.PolynomialRegression(4)\n",
    "    poly.fit(x, y)\n",
    "    lin = linearreg.LinearRegression()\n",
    "    lin.fit(x, y)\n",
    "    y_poly = poly.predict(xx)\n",
    "    y_poly_sum += y_poly\n",
    "    y_poly_sum_sq += (y_poly - y_true) ** 2\n",
    "    y_lin = lin.predict(xx.reshape(-1, 1))\n",
    "    y_lin_sum += y_lin\n",
    "    y_lin_sum_sq += (y_lin - y_true)**2\n",
    "    \n",
    "fig = plt.figure()\n",
    "ax1 = fig.add_subplot(121)\n",
    "ax2 = fig.add_subplot(122)\n",
    "ax1.set_title(\"Linear reg.\")\n",
    "ax2.set_title(\"Polynomial reg.\")\n",
    "ax1.set_ylim(0, 1)\n",
    "ax2.set_ylim(0, 1)\n",
    "ax1.fill_between(xx, 0, (y_lin_sum / n - y_true)**2,\\\n",
    "                color=\"0.2\", label=\"bias\")\n",
    "ax1.fill_between(xx, (y_lin_sum / n - y_true), y_lin_sum_sq /n,\\\n",
    "                 color=\"0.7\", label=\"variance\")\n",
    "ax1.legend(loc=\"upper left\")\n",
    "ax2.fill_between(xx, 0, (y_poly_sum / n - y_true)**2,\\\n",
    "                color=\"0.2\", label=\"bias\")\n",
    "ax2.fill_between(xx, (y_poly_sum / n - y_true), y_poly_sum_sq /n,\\\n",
    "                 color=\"0.7\", label=\"variance\")\n",
    "ax2.legend(loc=\"upper left\")\n",
    "plt.show()"
   ]
  },
  {
   "cell_type": "code",
   "execution_count": null,
   "metadata": {},
   "outputs": [],
   "source": []
  }
 ],
 "metadata": {
  "kernelspec": {
   "display_name": "Python 3",
   "language": "python",
   "name": "python3"
  },
  "language_info": {
   "codemirror_mode": {
    "name": "ipython",
    "version": 3
   },
   "file_extension": ".py",
   "mimetype": "text/x-python",
   "name": "python",
   "nbconvert_exporter": "python",
   "pygments_lexer": "ipython3",
   "version": "3.6.8"
  },
  "latex_envs": {
   "LaTeX_envs_menu_present": true,
   "autoclose": false,
   "autocomplete": true,
   "bibliofile": "biblio.bib",
   "cite_by": "apalike",
   "current_citInitial": 1,
   "eqLabelWithNumbers": true,
   "eqNumInitial": 1,
   "hotkeys": {
    "equation": "Ctrl-E",
    "itemize": "Ctrl-I"
   },
   "labels_anchors": false,
   "latex_user_defs": false,
   "report_style_numbering": false,
   "user_envs_cfg": false
  }
 },
 "nbformat": 4,
 "nbformat_minor": 2
}
