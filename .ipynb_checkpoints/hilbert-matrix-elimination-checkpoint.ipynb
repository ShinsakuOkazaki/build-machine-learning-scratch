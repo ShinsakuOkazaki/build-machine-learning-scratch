{
 "cells": [
  {
   "cell_type": "code",
   "execution_count": 1,
   "metadata": {},
   "outputs": [],
   "source": [
    "import numpy as np\n",
    "from scipy import linalg"
   ]
  },
  {
   "cell_type": "code",
   "execution_count": 2,
   "metadata": {},
   "outputs": [],
   "source": [
    "hilbs = []\n",
    "dets = []\n",
    "for i in range(1, 11):\n",
    "    hilb = linalg.hilbert(i)\n",
    "    det = np.linalg.det(hilb)\n",
    "    hilbs.append(hilb)\n",
    "    dets.append(det)\n",
    "    "
   ]
  },
  {
   "cell_type": "code",
   "execution_count": 3,
   "metadata": {},
   "outputs": [
    {
     "data": {
      "text/plain": [
       "10"
      ]
     },
     "execution_count": 3,
     "metadata": {},
     "output_type": "execute_result"
    }
   ],
   "source": [
    "len(hilbs)"
   ]
  },
  {
   "cell_type": "code",
   "execution_count": 4,
   "metadata": {},
   "outputs": [
    {
     "data": {
      "text/plain": [
       "3.749295132517931e-12"
      ]
     },
     "execution_count": 4,
     "metadata": {},
     "output_type": "execute_result"
    }
   ],
   "source": [
    "dets[4]"
   ]
  },
  {
   "cell_type": "code",
   "execution_count": 5,
   "metadata": {},
   "outputs": [
    {
     "data": {
      "text/plain": [
       "array([[1.        , 0.5       , 0.33333333, 0.25      , 0.2       ],\n",
       "       [0.5       , 0.33333333, 0.25      , 0.2       , 0.16666667],\n",
       "       [0.33333333, 0.25      , 0.2       , 0.16666667, 0.14285714],\n",
       "       [0.25      , 0.2       , 0.16666667, 0.14285714, 0.125     ],\n",
       "       [0.2       , 0.16666667, 0.14285714, 0.125     , 0.11111111]])"
      ]
     },
     "execution_count": 5,
     "metadata": {},
     "output_type": "execute_result"
    }
   ],
   "source": [
    "hilbs[4]"
   ]
  },
  {
   "cell_type": "code",
   "execution_count": 6,
   "metadata": {},
   "outputs": [
    {
     "name": "stdout",
     "output_type": "stream",
     "text": [
      "rand: 0 [[0.5        0.25       0.16666667 0.125      0.1       ]\n",
      " [0.33333333 0.16666667 0.11111111 0.08333333 0.06666667]\n",
      " [0.25       0.125      0.08333333 0.0625     0.05      ]\n",
      " [0.2        0.1        0.06666667 0.05       0.04      ]]\n",
      "rand: 1 [[0.         0.08333333 0.08333333 0.075      0.06666667]\n",
      " [0.         0.075      0.075      0.0675     0.06      ]\n",
      " [0.         0.06666667 0.06666667 0.06       0.05333333]]\n",
      "rand: 2 [[0.         0.         0.00833333 0.0125     0.01428571]\n",
      " [0.         0.         0.00952381 0.01428571 0.01632653]]\n",
      "rand: 3 [[0.         0.         0.         0.00071429 0.00142857]]\n"
     ]
    }
   ],
   "source": [
    "hilb_5 = np.copy(hilbs[4])\n",
    "for i in range(0, (hilb_5.shape[0]-1)):\n",
    "    elims = np.array([]).reshape(0, 5)\n",
    "    for j in range(i+1, (hilb_5.shape[0])):\n",
    "        elim =  hilb_5[j,i] * (hilb_5[i,:] / hilb_5[i,i])\n",
    "        elims = np.vstack((elims,elim))\n",
    "    print(\"rand:\", i,elims)\n",
    "    hilb_5[i+1:, :] = hilb_5[i+1:, :] - elims"
   ]
  },
  {
   "cell_type": "code",
   "execution_count": 8,
   "metadata": {},
   "outputs": [
    {
     "data": {
      "text/plain": [
       "array([[1.00000000e+00, 5.00000000e-01, 3.33333333e-01, 2.50000000e-01,\n",
       "        2.00000000e-01],\n",
       "       [0.00000000e+00, 8.33333333e-02, 8.33333333e-02, 7.50000000e-02,\n",
       "        6.66666667e-02],\n",
       "       [0.00000000e+00, 0.00000000e+00, 5.55555556e-03, 8.33333333e-03,\n",
       "        9.52380952e-03],\n",
       "       [0.00000000e+00, 0.00000000e+00, 0.00000000e+00, 3.57142857e-04,\n",
       "        7.14285714e-04],\n",
       "       [0.00000000e+00, 0.00000000e+00, 0.00000000e+00, 0.00000000e+00,\n",
       "        2.26757370e-05]])"
      ]
     },
     "execution_count": 8,
     "metadata": {},
     "output_type": "execute_result"
    }
   ],
   "source": [
    "hilb_5"
   ]
  },
  {
   "cell_type": "code",
   "execution_count": null,
   "metadata": {},
   "outputs": [],
   "source": []
  }
 ],
 "metadata": {
  "kernelspec": {
   "display_name": "Python 3",
   "language": "python",
   "name": "python3"
  },
  "language_info": {
   "codemirror_mode": {
    "name": "ipython",
    "version": 3
   },
   "file_extension": ".py",
   "mimetype": "text/x-python",
   "name": "python",
   "nbconvert_exporter": "python",
   "pygments_lexer": "ipython3",
   "version": "3.6.8"
  },
  "latex_envs": {
   "LaTeX_envs_menu_present": true,
   "autoclose": false,
   "autocomplete": true,
   "bibliofile": "biblio.bib",
   "cite_by": "apalike",
   "current_citInitial": 1,
   "eqLabelWithNumbers": true,
   "eqNumInitial": 1,
   "hotkeys": {
    "equation": "Ctrl-E",
    "itemize": "Ctrl-I"
   },
   "labels_anchors": false,
   "latex_user_defs": false,
   "report_style_numbering": false,
   "user_envs_cfg": false
  }
 },
 "nbformat": 4,
 "nbformat_minor": 2
}
